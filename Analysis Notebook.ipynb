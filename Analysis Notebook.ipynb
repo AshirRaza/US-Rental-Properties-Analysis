{
 "cells": [
  {
   "cell_type": "code",
   "execution_count": 49,
   "id": "e0af5f4e",
   "metadata": {},
   "outputs": [],
   "source": [
    "import pandas as pd"
   ]
  },
  {
   "cell_type": "code",
   "execution_count": 50,
   "id": "dc542694",
   "metadata": {},
   "outputs": [],
   "source": [
    "data = pd.read_csv('RentalProperties.csv', encoding='utf-8', low_memory = False)"
   ]
  },
  {
   "cell_type": "code",
   "execution_count": 51,
   "id": "1c20e9aa",
   "metadata": {},
   "outputs": [
    {
     "name": "stdout",
     "output_type": "stream",
     "text": [
      "       Listing ID Last Scraped   Host ID           Host Name Host Since  \\\n",
      "0         4917301       5/2/17  24035721             Michael   11/22/14   \n",
      "1         8384432       5/3/17    506809                  Ky    4/13/11   \n",
      "2         3874726       5/3/17  19684108               Celia     8/8/14   \n",
      "3         9798152       5/3/17   6912939                Nick    6/14/13   \n",
      "4         9154029       5/3/17  24663738  Angelita (AKA) LIA    12/9/14   \n",
      "...           ...          ...       ...                 ...        ...   \n",
      "51166     8354615       5/3/17   6486692                Cori    5/20/13   \n",
      "51167      692712       5/3/17   2101623                 Buz     4/9/12   \n",
      "51168    17543918       5/3/17  72009130               Sofia    5/14/16   \n",
      "51169     8742017       5/3/17  45861464                Beth    10/5/15   \n",
      "51170    11672615       5/3/17  61976241              Genine     3/7/16   \n",
      "\n",
      "                                   Host Location  Host Response Time  \\\n",
      "0         Los Angeles, California, United States                 NaN   \n",
      "1         Los Angeles, California, United States  within a few hours   \n",
      "2                   Paris, Île-de-France, France                 NaN   \n",
      "3              New York, New York, United States                 NaN   \n",
      "4         Los Angeles, California, United States  within a few hours   \n",
      "...                                          ...                 ...   \n",
      "51166          New York, New York, United States                 NaN   \n",
      "51167     Los Angeles, California, United States      within an hour   \n",
      "51168  Marina del Rey, California, United States      within an hour   \n",
      "51169     Los Angeles, California, United States                 NaN   \n",
      "51170     Los Angeles, California, United States                 NaN   \n",
      "\n",
      "       Host Response Rate Host Acceptance Rate             Host Neighborhood  \\\n",
      "0                     NaN                  NaN  Woodland Hills/Warner Center   \n",
      "1                   100.0                  NaN  Woodland Hills/Warner Center   \n",
      "2                     NaN                  NaN                           NaN   \n",
      "3                     NaN                  NaN                West Hollywood   \n",
      "4                   100.0                  NaN                      Justicia   \n",
      "...                   ...                  ...                           ...   \n",
      "51166                 NaN                  NaN                        Venice   \n",
      "51167                97.0                  NaN                        Venice   \n",
      "51168                94.0                  NaN                Marina Del Rey   \n",
      "51169                 NaN                  NaN                        Venice   \n",
      "51170                 NaN                  NaN                        Venice   \n",
      "\n",
      "       ...  Review Scores Cleanliness  Review Scores Checkin  \\\n",
      "0      ...                        NaN                    NaN   \n",
      "1      ...                       10.0                   10.0   \n",
      "2      ...                        NaN                    NaN   \n",
      "3      ...                        NaN                    NaN   \n",
      "4      ...                       10.0                   10.0   \n",
      "...    ...                        ...                    ...   \n",
      "51166  ...                        4.0                   10.0   \n",
      "51167  ...                        9.0                   10.0   \n",
      "51168  ...                       10.0                    8.0   \n",
      "51169  ...                        9.0                   10.0   \n",
      "51170  ...                        NaN                    NaN   \n",
      "\n",
      "      Review Scores Communication Review Scores Location Review Scores Value  \\\n",
      "0                             NaN                    NaN                 NaN   \n",
      "1                            10.0                   10.0                10.0   \n",
      "2                             NaN                    NaN                 NaN   \n",
      "3                             NaN                    NaN                 NaN   \n",
      "4                            10.0                   10.0                10.0   \n",
      "...                           ...                    ...                 ...   \n",
      "51166                        10.0                   10.0                10.0   \n",
      "51167                        10.0                    9.0                 9.0   \n",
      "51168                         7.0                   10.0                 8.0   \n",
      "51169                        10.0                   10.0                10.0   \n",
      "51170                         NaN                    NaN                 NaN   \n",
      "\n",
      "      Cancellation Policy Calculated host listings count Reviews per month  \\\n",
      "0                flexible                            1.0               NaN   \n",
      "1                  strict                            2.0              0.16   \n",
      "2                  strict                            1.0               NaN   \n",
      "3                  strict                            1.0               NaN   \n",
      "4                  strict                            1.0              0.12   \n",
      "...                   ...                            ...               ...   \n",
      "51166            flexible                            1.0              0.05   \n",
      "51167              strict                            3.0              5.14   \n",
      "51168              strict                            4.0              2.55   \n",
      "51169              strict                            1.0              0.23   \n",
      "51170            flexible                            1.0               NaN   \n",
      "\n",
      "                        Geolocation Sentiment  \n",
      "0      34.1477564923,-118.591337801       NaN  \n",
      "1      34.1485944277,-118.596683716       2.0  \n",
      "2      34.1581129287,-118.623455189       NaN  \n",
      "3       34.0883875483,-118.35847759       NaN  \n",
      "4      34.0897418683,-118.386142001       2.0  \n",
      "...                             ...       ...  \n",
      "51166   33.996122374,-118.466388541       2.0  \n",
      "51167  33.9928747072,-118.477859934       2.0  \n",
      "51168  33.9807548702,-118.463772224       2.0  \n",
      "51169  33.9929818307,-118.460045772       2.0  \n",
      "51170   33.988728546,-118.470031778       NaN  \n",
      "\n",
      "[51171 rows x 63 columns]\n"
     ]
    }
   ],
   "source": [
    "print(data)"
   ]
  },
  {
   "cell_type": "code",
   "execution_count": 52,
   "id": "6ab9ec9a",
   "metadata": {},
   "outputs": [
    {
     "data": {
      "text/plain": [
       "45"
      ]
     },
     "execution_count": 52,
     "metadata": {},
     "output_type": "execute_result"
    }
   ],
   "source": [
    "len(pd.value_counts(data.Market))"
   ]
  },
  {
   "cell_type": "code",
   "execution_count": 12,
   "id": "f2a97073",
   "metadata": {},
   "outputs": [
    {
     "data": {
      "text/plain": [
       "(51171, 63)"
      ]
     },
     "execution_count": 12,
     "metadata": {},
     "output_type": "execute_result"
    }
   ],
   "source": []
  },
  {
   "cell_type": "code",
   "execution_count": 53,
   "id": "c9de32ac",
   "metadata": {},
   "outputs": [
    {
     "data": {
      "text/plain": [
       "43602"
      ]
     },
     "execution_count": 53,
     "metadata": {},
     "output_type": "execute_result"
    }
   ],
   "source": [
    "import numpy as np\n",
    "(data['Weekly Price'].isnull().sum())"
   ]
  },
  {
   "cell_type": "code",
   "execution_count": 54,
   "id": "3f4217d2",
   "metadata": {},
   "outputs": [
    {
     "data": {
      "text/plain": [
       "576"
      ]
     },
     "execution_count": 54,
     "metadata": {},
     "output_type": "execute_result"
    }
   ],
   "source": [
    "int(data['Weekly Price'].mean())"
   ]
  },
  {
   "cell_type": "code",
   "execution_count": 48,
   "id": "8d55d94f",
   "metadata": {},
   "outputs": [],
   "source": [
    "data['Price'].fillna(int(data['Price'].mean()), inplace=True)"
   ]
  },
  {
   "cell_type": "code",
   "execution_count": 56,
   "id": "029029a3",
   "metadata": {},
   "outputs": [
    {
     "data": {
      "text/plain": [
       "576"
      ]
     },
     "execution_count": 56,
     "metadata": {},
     "output_type": "execute_result"
    }
   ],
   "source": [
    "int(data['Weekly Price'].mean())"
   ]
  },
  {
   "cell_type": "code",
   "execution_count": 58,
   "id": "8ef0b284",
   "metadata": {},
   "outputs": [
    {
     "data": {
      "text/plain": [
       "4361947.0"
      ]
     },
     "execution_count": 58,
     "metadata": {},
     "output_type": "execute_result"
    }
   ],
   "source": [
    "(data['Weekly Price'].sum())"
   ]
  },
  {
   "cell_type": "code",
   "execution_count": 41,
   "id": "1094f71e",
   "metadata": {},
   "outputs": [
    {
     "data": {
      "text/plain": [
       "158"
      ]
     },
     "execution_count": 41,
     "metadata": {},
     "output_type": "execute_result"
    }
   ],
   "source": [
    "int(data['Price'].mean())"
   ]
  },
  {
   "cell_type": "code",
   "execution_count": 76,
   "id": "7df1be09",
   "metadata": {
    "scrolled": true
   },
   "outputs": [
    {
     "name": "stdout",
     "output_type": "stream",
     "text": [
      "mean:  9.540468712249336\n",
      "median:  10.0\n",
      "mode:  10.0\n",
      "standard deviation:  0.791528017052901\n",
      "standard error:  0.0041010713381545725\n",
      "sample variation:  0.6265166017796976\n",
      "kurtosis:  14.130460840783106\n",
      "skewness:  -2.826082274605873\n",
      "data_range  8.0\n",
      "Minimum 2.0\n",
      "Maximum 10.0\n",
      "Summation:  355392.0\n",
      "Count:  37251\n"
     ]
    }
   ],
   "source": [
    "print(\"mean: \", data[\"Review Scores Location\"].mean())\n",
    "print(\"median: \", data[\"Review Scores Location\"].median())\n",
    "print(\"mode: \", data[\"Review Scores Location\"].mode().iloc[0])\n",
    "print(\"standard deviation: \", data[\"Review Scores Location\"].std())\n",
    "print(\"standard error: \", data[\"Review Scores Location\"].sem())\n",
    "print(\"sample variation: \", data[\"Review Scores Location\"].var())\n",
    "print(\"kurtosis: \", data[\"Review Scores Location\"].kurtosis())\n",
    "print(\"skewness: \", data[\"Review Scores Location\"].skew())\n",
    "print(\"data_range \",  data[\"Review Scores Location\"].max() - data[\"Review Scores Location\"].min())\n",
    "print(\"Minimum\", data[\"Review Scores Location\"].min())\n",
    "print(\"Maximum\", data[\"Review Scores Location\"].max())\n",
    "print(\"Summation: \", data[\"Review Scores Location\"].sum())\n",
    "print(\"Count: \", data[\"Review Scores Location\"].count())"
   ]
  },
  {
   "cell_type": "code",
   "execution_count": 43,
   "id": "9fb21e2d",
   "metadata": {},
   "outputs": [
    {
     "ename": "TypeError",
     "evalue": "ufunc 'true_divide' not supported for the input types, and the inputs could not be safely coerced to any supported types according to the casting rule ''safe''",
     "output_type": "error",
     "traceback": [
      "\u001b[1;31m---------------------------------------------------------------------------\u001b[0m",
      "\u001b[1;31mTypeError\u001b[0m                                 Traceback (most recent call last)",
      "Input \u001b[1;32mIn [43]\u001b[0m, in \u001b[0;36m<cell line: 9>\u001b[1;34m()\u001b[0m\n\u001b[0;32m      6\u001b[0m df \u001b[38;5;241m=\u001b[39m pd\u001b[38;5;241m.\u001b[39mDataFrame(data)\n\u001b[0;32m      8\u001b[0m \u001b[38;5;66;03m# Create the box and whisker plot\u001b[39;00m\n\u001b[1;32m----> 9\u001b[0m \u001b[43mplt\u001b[49m\u001b[38;5;241;43m.\u001b[39;49m\u001b[43mboxplot\u001b[49m\u001b[43m(\u001b[49m\u001b[43mdf\u001b[49m\u001b[38;5;241;43m.\u001b[39;49m\u001b[43mvalues\u001b[49m\u001b[43m)\u001b[49m\n\u001b[0;32m     11\u001b[0m \u001b[38;5;66;03m# Set x-axis tick labels\u001b[39;00m\n\u001b[0;32m     12\u001b[0m plt\u001b[38;5;241m.\u001b[39mxticks(\u001b[38;5;28mrange\u001b[39m(\u001b[38;5;241m1\u001b[39m, \u001b[38;5;28mlen\u001b[39m(df\u001b[38;5;241m.\u001b[39mcolumns) \u001b[38;5;241m+\u001b[39m \u001b[38;5;241m1\u001b[39m), df\u001b[38;5;241m.\u001b[39mcolumns)\n",
      "File \u001b[1;32m~\\anaconda3\\lib\\site-packages\\matplotlib\\pyplot.py:2428\u001b[0m, in \u001b[0;36mboxplot\u001b[1;34m(x, notch, sym, vert, whis, positions, widths, patch_artist, bootstrap, usermedians, conf_intervals, meanline, showmeans, showcaps, showbox, showfliers, boxprops, labels, flierprops, medianprops, meanprops, capprops, whiskerprops, manage_ticks, autorange, zorder, data)\u001b[0m\n\u001b[0;32m   2418\u001b[0m \u001b[38;5;129m@_copy_docstring_and_deprecators\u001b[39m(Axes\u001b[38;5;241m.\u001b[39mboxplot)\n\u001b[0;32m   2419\u001b[0m \u001b[38;5;28;01mdef\u001b[39;00m \u001b[38;5;21mboxplot\u001b[39m(\n\u001b[0;32m   2420\u001b[0m         x, notch\u001b[38;5;241m=\u001b[39m\u001b[38;5;28;01mNone\u001b[39;00m, sym\u001b[38;5;241m=\u001b[39m\u001b[38;5;28;01mNone\u001b[39;00m, vert\u001b[38;5;241m=\u001b[39m\u001b[38;5;28;01mNone\u001b[39;00m, whis\u001b[38;5;241m=\u001b[39m\u001b[38;5;28;01mNone\u001b[39;00m,\n\u001b[1;32m   (...)\u001b[0m\n\u001b[0;32m   2426\u001b[0m         whiskerprops\u001b[38;5;241m=\u001b[39m\u001b[38;5;28;01mNone\u001b[39;00m, manage_ticks\u001b[38;5;241m=\u001b[39m\u001b[38;5;28;01mTrue\u001b[39;00m, autorange\u001b[38;5;241m=\u001b[39m\u001b[38;5;28;01mFalse\u001b[39;00m,\n\u001b[0;32m   2427\u001b[0m         zorder\u001b[38;5;241m=\u001b[39m\u001b[38;5;28;01mNone\u001b[39;00m, \u001b[38;5;241m*\u001b[39m, data\u001b[38;5;241m=\u001b[39m\u001b[38;5;28;01mNone\u001b[39;00m):\n\u001b[1;32m-> 2428\u001b[0m     \u001b[38;5;28;01mreturn\u001b[39;00m gca()\u001b[38;5;241m.\u001b[39mboxplot(\n\u001b[0;32m   2429\u001b[0m         x, notch\u001b[38;5;241m=\u001b[39mnotch, sym\u001b[38;5;241m=\u001b[39msym, vert\u001b[38;5;241m=\u001b[39mvert, whis\u001b[38;5;241m=\u001b[39mwhis,\n\u001b[0;32m   2430\u001b[0m         positions\u001b[38;5;241m=\u001b[39mpositions, widths\u001b[38;5;241m=\u001b[39mwidths, patch_artist\u001b[38;5;241m=\u001b[39mpatch_artist,\n\u001b[0;32m   2431\u001b[0m         bootstrap\u001b[38;5;241m=\u001b[39mbootstrap, usermedians\u001b[38;5;241m=\u001b[39musermedians,\n\u001b[0;32m   2432\u001b[0m         conf_intervals\u001b[38;5;241m=\u001b[39mconf_intervals, meanline\u001b[38;5;241m=\u001b[39mmeanline,\n\u001b[0;32m   2433\u001b[0m         showmeans\u001b[38;5;241m=\u001b[39mshowmeans, showcaps\u001b[38;5;241m=\u001b[39mshowcaps, showbox\u001b[38;5;241m=\u001b[39mshowbox,\n\u001b[0;32m   2434\u001b[0m         showfliers\u001b[38;5;241m=\u001b[39mshowfliers, boxprops\u001b[38;5;241m=\u001b[39mboxprops, labels\u001b[38;5;241m=\u001b[39mlabels,\n\u001b[0;32m   2435\u001b[0m         flierprops\u001b[38;5;241m=\u001b[39mflierprops, medianprops\u001b[38;5;241m=\u001b[39mmedianprops,\n\u001b[0;32m   2436\u001b[0m         meanprops\u001b[38;5;241m=\u001b[39mmeanprops, capprops\u001b[38;5;241m=\u001b[39mcapprops,\n\u001b[0;32m   2437\u001b[0m         whiskerprops\u001b[38;5;241m=\u001b[39mwhiskerprops, manage_ticks\u001b[38;5;241m=\u001b[39mmanage_ticks,\n\u001b[0;32m   2438\u001b[0m         autorange\u001b[38;5;241m=\u001b[39mautorange, zorder\u001b[38;5;241m=\u001b[39mzorder,\n\u001b[0;32m   2439\u001b[0m         \u001b[38;5;241m*\u001b[39m\u001b[38;5;241m*\u001b[39m({\u001b[38;5;124m\"\u001b[39m\u001b[38;5;124mdata\u001b[39m\u001b[38;5;124m\"\u001b[39m: data} \u001b[38;5;28;01mif\u001b[39;00m data \u001b[38;5;129;01mis\u001b[39;00m \u001b[38;5;129;01mnot\u001b[39;00m \u001b[38;5;28;01mNone\u001b[39;00m \u001b[38;5;28;01melse\u001b[39;00m {}))\n",
      "File \u001b[1;32m~\\anaconda3\\lib\\site-packages\\matplotlib\\__init__.py:1412\u001b[0m, in \u001b[0;36m_preprocess_data.<locals>.inner\u001b[1;34m(ax, data, *args, **kwargs)\u001b[0m\n\u001b[0;32m   1409\u001b[0m \u001b[38;5;129m@functools\u001b[39m\u001b[38;5;241m.\u001b[39mwraps(func)\n\u001b[0;32m   1410\u001b[0m \u001b[38;5;28;01mdef\u001b[39;00m \u001b[38;5;21minner\u001b[39m(ax, \u001b[38;5;241m*\u001b[39margs, data\u001b[38;5;241m=\u001b[39m\u001b[38;5;28;01mNone\u001b[39;00m, \u001b[38;5;241m*\u001b[39m\u001b[38;5;241m*\u001b[39mkwargs):\n\u001b[0;32m   1411\u001b[0m     \u001b[38;5;28;01mif\u001b[39;00m data \u001b[38;5;129;01mis\u001b[39;00m \u001b[38;5;28;01mNone\u001b[39;00m:\n\u001b[1;32m-> 1412\u001b[0m         \u001b[38;5;28;01mreturn\u001b[39;00m func(ax, \u001b[38;5;241m*\u001b[39m\u001b[38;5;28mmap\u001b[39m(sanitize_sequence, args), \u001b[38;5;241m*\u001b[39m\u001b[38;5;241m*\u001b[39mkwargs)\n\u001b[0;32m   1414\u001b[0m     bound \u001b[38;5;241m=\u001b[39m new_sig\u001b[38;5;241m.\u001b[39mbind(ax, \u001b[38;5;241m*\u001b[39margs, \u001b[38;5;241m*\u001b[39m\u001b[38;5;241m*\u001b[39mkwargs)\n\u001b[0;32m   1415\u001b[0m     auto_label \u001b[38;5;241m=\u001b[39m (bound\u001b[38;5;241m.\u001b[39marguments\u001b[38;5;241m.\u001b[39mget(label_namer)\n\u001b[0;32m   1416\u001b[0m                   \u001b[38;5;129;01mor\u001b[39;00m bound\u001b[38;5;241m.\u001b[39mkwargs\u001b[38;5;241m.\u001b[39mget(label_namer))\n",
      "File \u001b[1;32m~\\anaconda3\\lib\\site-packages\\matplotlib\\axes\\_axes.py:3711\u001b[0m, in \u001b[0;36mAxes.boxplot\u001b[1;34m(self, x, notch, sym, vert, whis, positions, widths, patch_artist, bootstrap, usermedians, conf_intervals, meanline, showmeans, showcaps, showbox, showfliers, boxprops, labels, flierprops, medianprops, meanprops, capprops, whiskerprops, manage_ticks, autorange, zorder)\u001b[0m\n\u001b[0;32m   3708\u001b[0m \u001b[38;5;28;01mif\u001b[39;00m bootstrap \u001b[38;5;129;01mis\u001b[39;00m \u001b[38;5;28;01mNone\u001b[39;00m:\n\u001b[0;32m   3709\u001b[0m     bootstrap \u001b[38;5;241m=\u001b[39m rcParams[\u001b[38;5;124m'\u001b[39m\u001b[38;5;124mboxplot.bootstrap\u001b[39m\u001b[38;5;124m'\u001b[39m]\n\u001b[1;32m-> 3711\u001b[0m bxpstats \u001b[38;5;241m=\u001b[39m \u001b[43mcbook\u001b[49m\u001b[38;5;241;43m.\u001b[39;49m\u001b[43mboxplot_stats\u001b[49m\u001b[43m(\u001b[49m\u001b[43mx\u001b[49m\u001b[43m,\u001b[49m\u001b[43m \u001b[49m\u001b[43mwhis\u001b[49m\u001b[38;5;241;43m=\u001b[39;49m\u001b[43mwhis\u001b[49m\u001b[43m,\u001b[49m\u001b[43m \u001b[49m\u001b[43mbootstrap\u001b[49m\u001b[38;5;241;43m=\u001b[39;49m\u001b[43mbootstrap\u001b[49m\u001b[43m,\u001b[49m\n\u001b[0;32m   3712\u001b[0m \u001b[43m                               \u001b[49m\u001b[43mlabels\u001b[49m\u001b[38;5;241;43m=\u001b[39;49m\u001b[43mlabels\u001b[49m\u001b[43m,\u001b[49m\u001b[43m \u001b[49m\u001b[43mautorange\u001b[49m\u001b[38;5;241;43m=\u001b[39;49m\u001b[43mautorange\u001b[49m\u001b[43m)\u001b[49m\n\u001b[0;32m   3713\u001b[0m \u001b[38;5;28;01mif\u001b[39;00m notch \u001b[38;5;129;01mis\u001b[39;00m \u001b[38;5;28;01mNone\u001b[39;00m:\n\u001b[0;32m   3714\u001b[0m     notch \u001b[38;5;241m=\u001b[39m rcParams[\u001b[38;5;124m'\u001b[39m\u001b[38;5;124mboxplot.notch\u001b[39m\u001b[38;5;124m'\u001b[39m]\n",
      "File \u001b[1;32m~\\anaconda3\\lib\\site-packages\\matplotlib\\cbook\\__init__.py:1195\u001b[0m, in \u001b[0;36mboxplot_stats\u001b[1;34m(X, whis, bootstrap, labels, autorange)\u001b[0m\n\u001b[0;32m   1192\u001b[0m x \u001b[38;5;241m=\u001b[39m np\u001b[38;5;241m.\u001b[39masarray(x)\n\u001b[0;32m   1194\u001b[0m \u001b[38;5;66;03m# arithmetic mean\u001b[39;00m\n\u001b[1;32m-> 1195\u001b[0m stats[\u001b[38;5;124m'\u001b[39m\u001b[38;5;124mmean\u001b[39m\u001b[38;5;124m'\u001b[39m] \u001b[38;5;241m=\u001b[39m \u001b[43mnp\u001b[49m\u001b[38;5;241;43m.\u001b[39;49m\u001b[43mmean\u001b[49m\u001b[43m(\u001b[49m\u001b[43mx\u001b[49m\u001b[43m)\u001b[49m\n\u001b[0;32m   1197\u001b[0m \u001b[38;5;66;03m# medians and quartiles\u001b[39;00m\n\u001b[0;32m   1198\u001b[0m q1, med, q3 \u001b[38;5;241m=\u001b[39m np\u001b[38;5;241m.\u001b[39mpercentile(x, [\u001b[38;5;241m25\u001b[39m, \u001b[38;5;241m50\u001b[39m, \u001b[38;5;241m75\u001b[39m])\n",
      "File \u001b[1;32m<__array_function__ internals>:5\u001b[0m, in \u001b[0;36mmean\u001b[1;34m(*args, **kwargs)\u001b[0m\n",
      "File \u001b[1;32m~\\anaconda3\\lib\\site-packages\\numpy\\core\\fromnumeric.py:3440\u001b[0m, in \u001b[0;36mmean\u001b[1;34m(a, axis, dtype, out, keepdims, where)\u001b[0m\n\u001b[0;32m   3437\u001b[0m     \u001b[38;5;28;01melse\u001b[39;00m:\n\u001b[0;32m   3438\u001b[0m         \u001b[38;5;28;01mreturn\u001b[39;00m mean(axis\u001b[38;5;241m=\u001b[39maxis, dtype\u001b[38;5;241m=\u001b[39mdtype, out\u001b[38;5;241m=\u001b[39mout, \u001b[38;5;241m*\u001b[39m\u001b[38;5;241m*\u001b[39mkwargs)\n\u001b[1;32m-> 3440\u001b[0m \u001b[38;5;28;01mreturn\u001b[39;00m _methods\u001b[38;5;241m.\u001b[39m_mean(a, axis\u001b[38;5;241m=\u001b[39maxis, dtype\u001b[38;5;241m=\u001b[39mdtype,\n\u001b[0;32m   3441\u001b[0m                       out\u001b[38;5;241m=\u001b[39mout, \u001b[38;5;241m*\u001b[39m\u001b[38;5;241m*\u001b[39mkwargs)\n",
      "File \u001b[1;32m~\\anaconda3\\lib\\site-packages\\numpy\\core\\_methods.py:191\u001b[0m, in \u001b[0;36m_mean\u001b[1;34m(a, axis, dtype, out, keepdims, where)\u001b[0m\n\u001b[0;32m    189\u001b[0m         ret \u001b[38;5;241m=\u001b[39m ret\u001b[38;5;241m.\u001b[39mdtype\u001b[38;5;241m.\u001b[39mtype(ret \u001b[38;5;241m/\u001b[39m rcount)\n\u001b[0;32m    190\u001b[0m \u001b[38;5;28;01melse\u001b[39;00m:\n\u001b[1;32m--> 191\u001b[0m     ret \u001b[38;5;241m=\u001b[39m \u001b[43mret\u001b[49m\u001b[43m \u001b[49m\u001b[38;5;241;43m/\u001b[39;49m\u001b[43m \u001b[49m\u001b[43mrcount\u001b[49m\n\u001b[0;32m    193\u001b[0m \u001b[38;5;28;01mreturn\u001b[39;00m ret\n",
      "\u001b[1;31mTypeError\u001b[0m: ufunc 'true_divide' not supported for the input types, and the inputs could not be safely coerced to any supported types according to the casting rule ''safe''"
     ]
    },
    {
     "data": {
      "image/png": "[encoded data removed]",
      "text/plain": [
       "<Figure size 432x288 with 1 Axes>"
      ]
     },
     "metadata": {
      "needs_background": "light"
     },
     "output_type": "display_data"
    }
   ],
   "source": [
    "import matplotlib.pyplot as plt\n",
    "import pandas as pd\n",
    "\n",
    "\n",
    "\n",
    "df = pd.DataFrame(data)\n",
    "\n",
    "# Create the box and whisker plot\n",
    "plt.boxplot(df.values)\n",
    "\n",
    "# Set x-axis tick labels\n",
    "plt.xticks(range(1, len(df.columns) + 1), df.columns)\n",
    "\n",
    "# Set y-axis label\n",
    "plt.ylabel('Values')\n",
    "\n",
    "# Set title\n",
    "plt.title('Box and Whisker Plot')\n",
    "\n",
    "# Display the plot\n",
    "plt.show()\n"
   ]
  },
  {
   "cell_type": "code",
   "execution_count": 77,
   "id": "cfeefac3",
   "metadata": {},
   "outputs": [
    {
     "data": {
      "image/png": "[encoded data removed]",
      "text/plain": [
       "<Figure size 432x288 with 1 Axes>"
      ]
     },
     "metadata": {
      "needs_background": "light"
     },
     "output_type": "display_data"
    }
   ],
   "source": [
    "import matplotlib.pyplot as plt\n",
    "import pandas as pd\n",
    "\n",
    "# Create the box and whisker plot\n",
    "data[\"Review Scores Location\"] = pd.to_numeric(data[\"Review Scores Location\"], errors='coerce')\n",
    "plt.boxplot(data[\"Review Scores Location\"].dropna())\n",
    "\n",
    "# Set x-axis tick labels\n",
    "plt.xticks([1], [\"Review Scores Location\"])\n",
    "\n",
    "# Set y-axis label\n",
    "plt.ylabel('Review Scores Location')\n",
    "\n",
    "# Set title\n",
    "plt.title('Box and Whisker Plot of Review Scores Location')\n",
    "\n",
    "# Display the plot\n",
    "plt.show()\n"
   ]
  },
  {
   "cell_type": "code",
   "execution_count": 87,
   "id": "a7eb44ff",
   "metadata": {},
   "outputs": [
    {
     "name": "stdout",
     "output_type": "stream",
     "text": [
      "Apartment             29490\n",
      "House                 15786\n",
      "Condominium            1853\n",
      "Townhouse              1092\n",
      "Loft                    789\n",
      "Other                   402\n",
      "Guesthouse              363\n",
      "Bed & Breakfast         350\n",
      "Bungalow                256\n",
      "Villa                   127\n",
      "Dorm                    105\n",
      "Boutique hotel           88\n",
      "Camper/RV                87\n",
      "Cabin                    73\n",
      "Hostel                   61\n",
      "Boat                     55\n",
      "Timeshare                43\n",
      "Guest suite              31\n",
      "Serviced apartment       29\n",
      "Treehouse                14\n",
      "Tent                     12\n",
      "Castle                   12\n",
      "Vacation home             8\n",
      "Entire Floor              8\n",
      "In-law                    7\n",
      "Yurt                      6\n",
      "Chalet                    4\n",
      "Tipi                      3\n",
      "Lighthouse                3\n",
      "Earth House               3\n",
      "Cave                      2\n",
      "Hut                       2\n",
      "Nature lodge              1\n",
      "Island                    1\n",
      "Train                     1\n",
      "Casa particular           1\n",
      "Pension (Korea)           1\n",
      "Name: Property Type, dtype: int64\n"
     ]
    }
   ],
   "source": [
    "print(data[\"Property Type\"].value_counts())"
   ]
  },
  {
   "cell_type": "code",
   "execution_count": 93,
   "id": "563050a1",
   "metadata": {},
   "outputs": [
    {
     "data": {
      "image/png": "[encoded data removed]",
      "text/plain": [
       "<Figure size 432x288 with 1 Axes>"
      ]
     },
     "metadata": {},
     "output_type": "display_data"
    }
   ],
   "source": [
    "plt.pie(data[\"Property Type\"].value_counts(), labels= None, autopct='')\n",
    "\n",
    "# Set title\n",
    "plt.title('Room Type Distribution')\n",
    "plt.legend(labels=data[\"Property Type\"].value_counts().index, title='Property Type', loc='center left', bbox_to_anchor=(1, 0.5))\n",
    "\n",
    "# Display the chart\n",
    "plt.show()"
   ]
  },
  {
   "cell_type": "code",
   "execution_count": null,
   "id": "99c595ba",
   "metadata": {},
   "outputs": [],
   "source": []
  }
 ],
 "metadata": {
  "kernelspec": {
   "display_name": "Python 3 (ipykernel)",
   "language": "python",
   "name": "python3"
  },
  "language_info": {
   "codemirror_mode": {
    "name": "ipython",
    "version": 3
   },
   "file_extension": ".py",
   "mimetype": "text/x-python",
   "name": "python",
   "nbconvert_exporter": "python",
   "pygments_lexer": "ipython3",
   "version": "3.9.12"
  }
 },
 "nbformat": 4,
 "nbformat_minor": 5
}
